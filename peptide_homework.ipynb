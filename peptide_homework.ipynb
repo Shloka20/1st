{
  "nbformat": 4,
  "nbformat_minor": 0,
  "metadata": {
    "colab": {
      "provenance": []
    },
    "kernelspec": {
      "name": "python3",
      "display_name": "Python 3"
    },
    "language_info": {
      "name": "python"
    }
  },
  "cells": [
    {
      "cell_type": "code",
      "execution_count": 5,
      "metadata": {
        "id": "Ql84r_M6TxNu"
      },
      "outputs": [],
      "source": [
        "peptide= \"met-ala-lys-ser-asp-val-gly-cys-leu-arg-val-asp-ser-gly-lys-ala-leu-met-cys-arg-gly\""
      ]
    },
    {
      "cell_type": "code",
      "source": [
        "for i in peptide:\n",
        "    print(i)"
      ],
      "metadata": {
        "colab": {
          "base_uri": "https://localhost:8080/"
        },
        "id": "gvyQ92hmImbH",
        "outputId": "24b419bc-77e9-4ae1-f5a2-207dd645694c"
      },
      "execution_count": 6,
      "outputs": [
        {
          "output_type": "stream",
          "name": "stdout",
          "text": [
            "m\n",
            "e\n",
            "t\n",
            "-\n",
            "a\n",
            "l\n",
            "a\n",
            "-\n",
            "l\n",
            "y\n",
            "s\n",
            "-\n",
            "s\n",
            "e\n",
            "r\n",
            "-\n",
            "a\n",
            "s\n",
            "p\n",
            "-\n",
            "v\n",
            "a\n",
            "l\n",
            "-\n",
            "g\n",
            "l\n",
            "y\n",
            "-\n",
            "c\n",
            "y\n",
            "s\n",
            "-\n",
            "l\n",
            "e\n",
            "u\n",
            "-\n",
            "a\n",
            "r\n",
            "g\n",
            "-\n",
            "v\n",
            "a\n",
            "l\n",
            "-\n",
            "a\n",
            "s\n",
            "p\n",
            "-\n",
            "s\n",
            "e\n",
            "r\n",
            "-\n",
            "g\n",
            "l\n",
            "y\n",
            "-\n",
            "l\n",
            "y\n",
            "s\n",
            "-\n",
            "a\n",
            "l\n",
            "a\n",
            "-\n",
            "l\n",
            "e\n",
            "u\n",
            "-\n",
            "m\n",
            "e\n",
            "t\n",
            "-\n",
            "c\n",
            "y\n",
            "s\n",
            "-\n",
            "a\n",
            "r\n",
            "g\n",
            "-\n",
            "g\n",
            "l\n",
            "y\n"
          ]
        }
      ]
    },
    {
      "cell_type": "code",
      "source": [
        "pep_list= peptide.split(\"-\")"
      ],
      "metadata": {
        "id": "eemKswLhIuho"
      },
      "execution_count": 7,
      "outputs": []
    },
    {
      "cell_type": "code",
      "source": [
        "pep_list"
      ],
      "metadata": {
        "colab": {
          "base_uri": "https://localhost:8080/"
        },
        "id": "AVLQFrjII1Zz",
        "outputId": "2916780c-af39-47aa-92ba-b9d2362d0163"
      },
      "execution_count": 8,
      "outputs": [
        {
          "output_type": "execute_result",
          "data": {
            "text/plain": [
              "['met',\n",
              " 'ala',\n",
              " 'lys',\n",
              " 'ser',\n",
              " 'asp',\n",
              " 'val',\n",
              " 'gly',\n",
              " 'cys',\n",
              " 'leu',\n",
              " 'arg',\n",
              " 'val',\n",
              " 'asp',\n",
              " 'ser',\n",
              " 'gly',\n",
              " 'lys',\n",
              " 'ala',\n",
              " 'leu',\n",
              " 'met',\n",
              " 'cys',\n",
              " 'arg',\n",
              " 'gly']"
            ]
          },
          "metadata": {},
          "execution_count": 8
        }
      ]
    },
    {
      "cell_type": "code",
      "source": [
        "for i in pep_list:\n",
        "    print(f\"{i} is present {pep_list.count(i)}\")"
      ],
      "metadata": {
        "colab": {
          "base_uri": "https://localhost:8080/"
        },
        "id": "n9vAfmNfI4zQ",
        "outputId": "5a2ce568-8356-45ec-b483-767aae1dac7c"
      },
      "execution_count": 9,
      "outputs": [
        {
          "output_type": "stream",
          "name": "stdout",
          "text": [
            "met is present 2\n",
            "ala is present 2\n",
            "lys is present 2\n",
            "ser is present 2\n",
            "asp is present 2\n",
            "val is present 2\n",
            "gly is present 3\n",
            "cys is present 2\n",
            "leu is present 2\n",
            "arg is present 2\n",
            "val is present 2\n",
            "asp is present 2\n",
            "ser is present 2\n",
            "gly is present 3\n",
            "lys is present 2\n",
            "ala is present 2\n",
            "leu is present 2\n",
            "met is present 2\n",
            "cys is present 2\n",
            "arg is present 2\n",
            "gly is present 3\n"
          ]
        }
      ]
    },
    {
      "cell_type": "code",
      "source": [
        "len(pep_list)"
      ],
      "metadata": {
        "colab": {
          "base_uri": "https://localhost:8080/"
        },
        "id": "LZNbtUzpJTvd",
        "outputId": "c5e9ef22-d4ed-4a57-bc5c-c96f94fb3156"
      },
      "execution_count": 10,
      "outputs": [
        {
          "output_type": "execute_result",
          "data": {
            "text/plain": [
              "21"
            ]
          },
          "metadata": {},
          "execution_count": 10
        }
      ]
    },
    {
      "cell_type": "code",
      "source": [
        "set(pep_list)"
      ],
      "metadata": {
        "colab": {
          "base_uri": "https://localhost:8080/"
        },
        "id": "Dx56e2dNJs2U",
        "outputId": "9dcf0cdd-88d0-4889-dcb3-030a052a25d1"
      },
      "execution_count": 11,
      "outputs": [
        {
          "output_type": "execute_result",
          "data": {
            "text/plain": [
              "{'ala', 'arg', 'asp', 'cys', 'gly', 'leu', 'lys', 'met', 'ser', 'val'}"
            ]
          },
          "metadata": {},
          "execution_count": 11
        }
      ]
    },
    {
      "cell_type": "code",
      "source": [
        "len(set(pep_list))"
      ],
      "metadata": {
        "colab": {
          "base_uri": "https://localhost:8080/"
        },
        "id": "z6YZ0jJ8JyL6",
        "outputId": "43dc3071-bf53-476b-85e2-bc9d67f79714"
      },
      "execution_count": 14,
      "outputs": [
        {
          "output_type": "execute_result",
          "data": {
            "text/plain": [
              "10"
            ]
          },
          "metadata": {},
          "execution_count": 14
        }
      ]
    },
    {
      "cell_type": "code",
      "source": [
        "len(list(set(pep_list)))"
      ],
      "metadata": {
        "colab": {
          "base_uri": "https://localhost:8080/"
        },
        "id": "5wMvamhxKSlI",
        "outputId": "acf09429-8a2c-4506-c190-06b2901c113c"
      },
      "execution_count": 15,
      "outputs": [
        {
          "output_type": "execute_result",
          "data": {
            "text/plain": [
              "10"
            ]
          },
          "metadata": {},
          "execution_count": 15
        }
      ]
    },
    {
      "cell_type": "code",
      "source": [
        "list(set(pep_list))"
      ],
      "metadata": {
        "colab": {
          "base_uri": "https://localhost:8080/"
        },
        "id": "KIVj_lDwKCVR",
        "outputId": "d8a3fc7e-1040-4b89-e9c1-471f23d6cc86"
      },
      "execution_count": 13,
      "outputs": [
        {
          "output_type": "execute_result",
          "data": {
            "text/plain": [
              "['lys', 'met', 'ala', 'ser', 'cys', 'leu', 'arg', 'val', 'gly', 'asp']"
            ]
          },
          "metadata": {},
          "execution_count": 13
        }
      ]
    },
    {
      "cell_type": "code",
      "source": [
        "pep_list_no_duplicates = list(set(pep_list))\n"
      ],
      "metadata": {
        "id": "aaD07zAfKg5J"
      },
      "execution_count": 16,
      "outputs": []
    },
    {
      "cell_type": "code",
      "source": [
        "pep_list_no_duplicates"
      ],
      "metadata": {
        "colab": {
          "base_uri": "https://localhost:8080/"
        },
        "id": "zDBoS8J6KpN5",
        "outputId": "b8c33023-378e-4b6a-c0b9-7f561c223643"
      },
      "execution_count": 17,
      "outputs": [
        {
          "output_type": "execute_result",
          "data": {
            "text/plain": [
              "['lys', 'met', 'ala', 'ser', 'cys', 'leu', 'arg', 'val', 'gly', 'asp']"
            ]
          },
          "metadata": {},
          "execution_count": 17
        }
      ]
    },
    {
      "cell_type": "code",
      "source": [
        "for i in pep_list_no_duplicates:\n",
        "    print(f\"{i} is present {pep_list.count(i)}\")"
      ],
      "metadata": {
        "colab": {
          "base_uri": "https://localhost:8080/"
        },
        "id": "jCUALhgDKvQ3",
        "outputId": "bcfc0ca5-b550-4f72-a97e-14c26c1ee758"
      },
      "execution_count": 18,
      "outputs": [
        {
          "output_type": "stream",
          "name": "stdout",
          "text": [
            "lys is present 2\n",
            "met is present 2\n",
            "ala is present 2\n",
            "ser is present 2\n",
            "cys is present 2\n",
            "leu is present 2\n",
            "arg is present 2\n",
            "val is present 2\n",
            "gly is present 3\n",
            "asp is present 2\n"
          ]
        }
      ]
    },
    {
      "cell_type": "code",
      "source": [
        "for i in pep_list_no_duplicates:\n",
        "  print(f\" the probability of finding {i} is {(pep_list.count(i)/len(pep_list))}\")"
      ],
      "metadata": {
        "colab": {
          "base_uri": "https://localhost:8080/"
        },
        "id": "O5BMtigtMIbG",
        "outputId": "432588b9-5e6e-46f2-9344-0c240944800e"
      },
      "execution_count": 22,
      "outputs": [
        {
          "output_type": "stream",
          "name": "stdout",
          "text": [
            " the probability of finding lys is 0.09523809523809523\n",
            " the probability of finding met is 0.09523809523809523\n",
            " the probability of finding ala is 0.09523809523809523\n",
            " the probability of finding ser is 0.09523809523809523\n",
            " the probability of finding cys is 0.09523809523809523\n",
            " the probability of finding leu is 0.09523809523809523\n",
            " the probability of finding arg is 0.09523809523809523\n",
            " the probability of finding val is 0.09523809523809523\n",
            " the probability of finding gly is 0.14285714285714285\n",
            " the probability of finding asp is 0.09523809523809523\n"
          ]
        }
      ]
    }
  ]
}