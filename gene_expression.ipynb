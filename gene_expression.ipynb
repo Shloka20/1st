{
  "nbformat": 4,
  "nbformat_minor": 0,
  "metadata": {
    "colab": {
      "provenance": []
    },
    "kernelspec": {
      "name": "python3",
      "display_name": "Python 3"
    },
    "language_info": {
      "name": "python"
    }
  },
  "cells": [
    {
      "cell_type": "code",
      "source": [
        "def check_gene_expression(expression):\n",
        "    \"\"\"\n",
        "    Classify gene expression values into categories.\n",
        "\n",
        "    Parameters:\n",
        "    expression (float): The numeric gene expression value.\n",
        "\n",
        "    Returns:\n",
        "    str: The classification of the gene expression.\n",
        "    \"\"\"\n",
        "    if expression >= 1000:\n",
        "        return \"High\"\n",
        "    elif 500 <= expression < 1000:\n",
        "        return \"Moderate\"\n",
        "    elif 100 <= expression < 500:\n",
        "        return \"Low\"\n",
        "    else:  # expression < 100\n",
        "        return \"Undetected\"\n",
        "\n",
        "# Example usage\n",
        "expression_values = [1200, 800, 450, 80]\n",
        "for value in expression_values:\n",
        "    classification = check_gene_expression(value)\n",
        "    print(f\"Expression Value: {value} - Classification: {classification}\")"
      ],
      "metadata": {
        "colab": {
          "base_uri": "https://localhost:8080/"
        },
        "id": "iIhLjM7rcTHJ",
        "outputId": "ecb1f5e8-f53c-4fa2-87da-f8b6e579c28d"
      },
      "execution_count": 3,
      "outputs": [
        {
          "output_type": "stream",
          "name": "stdout",
          "text": [
            "Expression Value: 1200 - Classification: High\n",
            "Expression Value: 800 - Classification: Moderate\n",
            "Expression Value: 450 - Classification: Low\n",
            "Expression Value: 80 - Classification: Undetected\n"
          ]
        }
      ]
    },
    {
      "cell_type": "code",
      "source": [
        "# List of gene expression values\n",
        "gene_expression_values = [1500, 2000, 2500, 3000, 3500]\n",
        "\n",
        "# Initialize variables to compute the sum and count\n",
        "total_sum = 0\n",
        "count = 0\n",
        "\n",
        "# Use a for loop to iterate through the list and calculate the sum\n",
        "for value in gene_expression_values:\n",
        "    total_sum += value  # Add each value to total_sum\n",
        "    count += 1          # Increment the count\n",
        "\n",
        "# Calculate the average\n",
        "average_expression = total_sum / count if count > 0 else 0\n",
        "\n",
        "# Print the result\n",
        "print(f\"The average gene expression value is: {average_expression:.2f}\")"
      ],
      "metadata": {
        "colab": {
          "base_uri": "https://localhost:8080/"
        },
        "id": "5l8URma5geBx",
        "outputId": "37745b54-77bd-41e4-f0e9-7cec3ac9a32b"
      },
      "execution_count": 4,
      "outputs": [
        {
          "output_type": "stream",
          "name": "stdout",
          "text": [
            "The average gene expression value is: 2500.00\n"
          ]
        }
      ]
    },
    {
      "cell_type": "code",
      "source": [
        "# List of gene expression values\n",
        "gene_expression_values = [1, 1, 2, 3, 5, 8, 13, 21]\n",
        "\n",
        "# Define the threshold\n",
        "threshold = 10\n",
        "\n",
        "# Initialize variables for counting\n",
        "count = 0\n",
        "index = 0\n",
        "\n",
        "# Use a while loop to iterate through the list\n",
        "while index < len(gene_expression_values):\n",
        "    if gene_expression_values[index] > threshold:\n",
        "        count += 1  # Increment count if the expression value is above the threshold\n",
        "    index += 1  # Move to the next index\n",
        "\n",
        "# Print the result\n",
        "print(f\"The number of genes with expression values above {threshold} is: {count}\")"
      ],
      "metadata": {
        "colab": {
          "base_uri": "https://localhost:8080/"
        },
        "id": "IDMw2dvwhODe",
        "outputId": "dbb33648-7aad-4a68-af21-054bcf5e9f63"
      },
      "execution_count": 5,
      "outputs": [
        {
          "output_type": "stream",
          "name": "stdout",
          "text": [
            "The number of genes with expression values above 10 is: 2\n"
          ]
        }
      ]
    },
    {
      "cell_type": "code",
      "source": [
        "def count_gene_occurrences(gene_list):\n",
        "    \"\"\"\n",
        "    Count occurrences of each gene in the list.\n",
        "\n",
        "    Parameters:\n",
        "    gene_list (list): A list of gene names.\n",
        "\n",
        "    Returns:\n",
        "    dict: A dictionary with gene names as keys and their counts as values.\n",
        "    \"\"\"\n",
        "    gene_count = {}  # Initialize an empty dictionary to hold gene counts\n",
        "\n",
        "    for gene in gene_list:\n",
        "        if gene in gene_count:\n",
        "            gene_count[gene] += 1  # Increment count if gene is already in the dictionary\n",
        "        else:\n",
        "            gene_count[gene] = 1  # Initialize count for new genes\n",
        "\n",
        "    return gene_count\n",
        "\n",
        "# Test the function with a list of gene names\n",
        "test_genes = ['GeneA', 'GeneB', 'GeneA', 'GeneC', 'GeneB', 'GeneB']\n",
        "result = count_gene_occurrences(test_genes)\n",
        "\n",
        "# Print the result\n",
        "print(result)"
      ],
      "metadata": {
        "colab": {
          "base_uri": "https://localhost:8080/"
        },
        "id": "ek3aP6Rqk3r3",
        "outputId": "8ea68d9f-f2dd-4787-9037-c72c9f94bbc3"
      },
      "execution_count": 7,
      "outputs": [
        {
          "output_type": "stream",
          "name": "stdout",
          "text": [
            "{'GeneA': 2, 'GeneB': 3, 'GeneC': 1}\n"
          ]
        }
      ]
    },
    {
      "cell_type": "code",
      "source": [
        "def compute_gc_content(dna_sequence):\n",
        "    \"\"\"\n",
        "    Calculate the GC content of a given DNA sequence.\n",
        "\n",
        "    Parameters:\n",
        "    dna_sequence (str): The DNA sequence to analyze.\n",
        "\n",
        "    Returns:\n",
        "    float: The GC content as a percentage of the total sequence length.\n",
        "    \"\"\"\n",
        "    # Ensure the sequence is in uppercase to handle case insensitivity\n",
        "    dna_sequence = dna_sequence.upper()\n",
        "\n",
        "    # Count the occurrences of G and C\n",
        "    g_count = dna_sequence.count('G')\n",
        "    c_count = dna_sequence.count('C')\n",
        "\n",
        "    # Calculate total length of the sequence\n",
        "    total_length = len(dna_sequence)\n",
        "\n",
        "    # Avoid division by zero if the sequence is empty\n",
        "    if total_length == 0:\n",
        "        return 0.0  # Return 0% if there are no nucleotides\n",
        "\n",
        "    # Calculate GC content as a percentage\n",
        "    gc_content = (g_count + c_count) / total_length * 100\n",
        "\n",
        "    return gc_content\n",
        "\n",
        "# Example usage\n",
        "dna_seq = \"ATGCGTACG\"\n",
        "gc_percentage = compute_gc_content(dna_seq)\n",
        "print(f\"GC Content: {gc_percentage:.2f}%\")"
      ],
      "metadata": {
        "colab": {
          "base_uri": "https://localhost:8080/"
        },
        "id": "PHt_uOETnjU7",
        "outputId": "47abe321-e6d6-4964-a40a-5901905e9fe4"
      },
      "execution_count": 9,
      "outputs": [
        {
          "output_type": "stream",
          "name": "stdout",
          "text": [
            "GC Content: 55.56%\n"
          ]
        }
      ]
    },
    {
      "cell_type": "code",
      "source": [
        "def compute_gc_content(dna_sequence):\n",
        "    \"\"\"\n",
        "    Calculate the GC content of a given DNA sequence.\n",
        "\n",
        "    Parameters:\n",
        "    dna_sequence (str): The DNA sequence to analyze.\n",
        "\n",
        "    Returns:\n",
        "    float: The GC content as a percentage of the total sequence length.\n",
        "    \"\"\"\n",
        "    # Ensure the sequence is in uppercase to handle case insensitivity\n",
        "    dna_sequence = dna_sequence.upper()\n",
        "\n",
        "    # Count the occurrences of G and C\n",
        "    g_count = dna_sequence.count('G')\n",
        "    c_count = dna_sequence.count('C')\n",
        "\n",
        "    # Calculate total length of the sequence\n",
        "    total_length = len(dna_sequence)\n",
        "\n",
        "    # Avoid division by zero if the sequence is empty\n",
        "    if total_length == 0:\n",
        "        return 0.0  # Return 0% if there are no nucleotides\n",
        "\n",
        "    # Calculate GC content as a percentage\n",
        "    gc_content = (g_count + c_count) / total_length * 100\n",
        "\n",
        "    return gc_content\n",
        "\n",
        "# Call the function with the DNA sequence \"ATGCGTACG\"\n",
        "dna_seq = \"ATGCGTACG\"\n",
        "gc_percentage = compute_gc_content(dna_seq)\n",
        "\n",
        "# Print the GC content\n",
        "print(f\"GC Content for the DNA sequence '{dna_seq}': {gc_percentage:.2f}%\")"
      ],
      "metadata": {
        "colab": {
          "base_uri": "https://localhost:8080/"
        },
        "id": "T75UF5C4onVn",
        "outputId": "bcd77536-b92c-4adb-e93b-3b691648724a"
      },
      "execution_count": 10,
      "outputs": [
        {
          "output_type": "stream",
          "name": "stdout",
          "text": [
            "GC Content for the DNA sequence 'ATGCGTACG': 55.56%\n"
          ]
        }
      ]
    }
  ]
}